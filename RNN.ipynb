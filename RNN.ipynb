{
  "nbformat": 4,
  "nbformat_minor": 0,
  "metadata": {
    "colab": {
      "provenance": [],
      "collapsed_sections": [
        "-BihZgbNU70r",
        "VvsiqPIHV9S9",
        "XiswLzoDQx8v",
        "SwuniPu-dXE3",
        "QVT0czC9GLEN"
      ],
      "machine_shape": "hm",
      "gpuType": "L4"
    },
    "kernelspec": {
      "name": "python3",
      "display_name": "Python 3"
    },
    "language_info": {
      "name": "python"
    },
    "accelerator": "GPU"
  },
  "cells": [
    {
      "cell_type": "markdown",
      "source": [
        "# Install and Import Necessary Packages"
      ],
      "metadata": {
        "id": "-BihZgbNU70r"
      }
    },
    {
      "cell_type": "code",
      "source": [
        "# Install pandas_ta (technical indicators) and categorical encoders\n",
        "!pip install pandas_ta\n",
        "!pip install category_encoders"
      ],
      "metadata": {
        "colab": {
          "base_uri": "https://localhost:8080/"
        },
        "id": "8syiSayvVUWX",
        "outputId": "00b83e7e-f709-413c-bd10-bf17df2730d9"
      },
      "execution_count": 1,
      "outputs": [
        {
          "output_type": "stream",
          "name": "stdout",
          "text": [
            "Collecting pandas_ta\n",
            "  Downloading pandas_ta-0.3.14b.tar.gz (115 kB)\n",
            "\u001b[?25l     \u001b[90m━━━━━━━━━━━━━━━━━━━━━━━━━━━━━━━━━━━━━━━━\u001b[0m \u001b[32m0.0/115.1 kB\u001b[0m \u001b[31m?\u001b[0m eta \u001b[36m-:--:--\u001b[0m\r\u001b[2K     \u001b[90m━━━━━━━━━━━━━━━━━━━━━━━━━━━━━━━━━━━━━━━━\u001b[0m \u001b[32m115.1/115.1 kB\u001b[0m \u001b[31m9.4 MB/s\u001b[0m eta \u001b[36m0:00:00\u001b[0m\n",
            "\u001b[?25h  Preparing metadata (setup.py) ... \u001b[?25l\u001b[?25hdone\n",
            "Requirement already satisfied: pandas in /usr/local/lib/python3.10/dist-packages (from pandas_ta) (2.1.4)\n",
            "Requirement already satisfied: numpy<2,>=1.22.4 in /usr/local/lib/python3.10/dist-packages (from pandas->pandas_ta) (1.26.4)\n",
            "Requirement already satisfied: python-dateutil>=2.8.2 in /usr/local/lib/python3.10/dist-packages (from pandas->pandas_ta) (2.8.2)\n",
            "Requirement already satisfied: pytz>=2020.1 in /usr/local/lib/python3.10/dist-packages (from pandas->pandas_ta) (2024.1)\n",
            "Requirement already satisfied: tzdata>=2022.1 in /usr/local/lib/python3.10/dist-packages (from pandas->pandas_ta) (2024.1)\n",
            "Requirement already satisfied: six>=1.5 in /usr/local/lib/python3.10/dist-packages (from python-dateutil>=2.8.2->pandas->pandas_ta) (1.16.0)\n",
            "Building wheels for collected packages: pandas_ta\n",
            "  Building wheel for pandas_ta (setup.py) ... \u001b[?25l\u001b[?25hdone\n",
            "  Created wheel for pandas_ta: filename=pandas_ta-0.3.14b0-py3-none-any.whl size=218909 sha256=e6e5764d9a90236234430d36f6ef0316a69df131b66679ace2ac3df862b780c1\n",
            "  Stored in directory: /root/.cache/pip/wheels/69/00/ac/f7fa862c34b0e2ef320175100c233377b4c558944f12474cf0\n",
            "Successfully built pandas_ta\n",
            "Installing collected packages: pandas_ta\n",
            "Successfully installed pandas_ta-0.3.14b0\n",
            "Collecting category_encoders\n",
            "  Downloading category_encoders-2.6.3-py2.py3-none-any.whl.metadata (8.0 kB)\n",
            "Requirement already satisfied: numpy>=1.14.0 in /usr/local/lib/python3.10/dist-packages (from category_encoders) (1.26.4)\n",
            "Requirement already satisfied: scikit-learn>=0.20.0 in /usr/local/lib/python3.10/dist-packages (from category_encoders) (1.3.2)\n",
            "Requirement already satisfied: scipy>=1.0.0 in /usr/local/lib/python3.10/dist-packages (from category_encoders) (1.13.1)\n",
            "Requirement already satisfied: statsmodels>=0.9.0 in /usr/local/lib/python3.10/dist-packages (from category_encoders) (0.14.2)\n",
            "Requirement already satisfied: pandas>=1.0.5 in /usr/local/lib/python3.10/dist-packages (from category_encoders) (2.1.4)\n",
            "Requirement already satisfied: patsy>=0.5.1 in /usr/local/lib/python3.10/dist-packages (from category_encoders) (0.5.6)\n",
            "Requirement already satisfied: python-dateutil>=2.8.2 in /usr/local/lib/python3.10/dist-packages (from pandas>=1.0.5->category_encoders) (2.8.2)\n",
            "Requirement already satisfied: pytz>=2020.1 in /usr/local/lib/python3.10/dist-packages (from pandas>=1.0.5->category_encoders) (2024.1)\n",
            "Requirement already satisfied: tzdata>=2022.1 in /usr/local/lib/python3.10/dist-packages (from pandas>=1.0.5->category_encoders) (2024.1)\n",
            "Requirement already satisfied: six in /usr/local/lib/python3.10/dist-packages (from patsy>=0.5.1->category_encoders) (1.16.0)\n",
            "Requirement already satisfied: joblib>=1.1.1 in /usr/local/lib/python3.10/dist-packages (from scikit-learn>=0.20.0->category_encoders) (1.4.2)\n",
            "Requirement already satisfied: threadpoolctl>=2.0.0 in /usr/local/lib/python3.10/dist-packages (from scikit-learn>=0.20.0->category_encoders) (3.5.0)\n",
            "Requirement already satisfied: packaging>=21.3 in /usr/local/lib/python3.10/dist-packages (from statsmodels>=0.9.0->category_encoders) (24.1)\n",
            "Downloading category_encoders-2.6.3-py2.py3-none-any.whl (81 kB)\n",
            "\u001b[2K   \u001b[90m━━━━━━━━━━━━━━━━━━━━━━━━━━━━━━━━━━━━━━━━\u001b[0m \u001b[32m81.9/81.9 kB\u001b[0m \u001b[31m7.7 MB/s\u001b[0m eta \u001b[36m0:00:00\u001b[0m\n",
            "\u001b[?25hInstalling collected packages: category_encoders\n",
            "Successfully installed category_encoders-2.6.3\n"
          ]
        }
      ]
    },
    {
      "cell_type": "code",
      "source": [
        "# Import all necessary libraries\n",
        "import pandas as pd\n",
        "import numpy as np\n",
        "import matplotlib.pyplot as plt\n",
        "import seaborn as sns\n",
        "import datetime as dt\n",
        "import yfinance as yf\n",
        "import pandas_ta\n",
        "from sklearn.experimental import enable_iterative_imputer\n",
        "from sklearn.impute import IterativeImputer\n",
        "from sklearn.preprocessing import StandardScaler\n",
        "from sklearn.decomposition import PCA\n",
        "from sklearn.utils.class_weight import compute_class_weight\n",
        "import category_encoders as ce\n",
        "import tensorflow\n",
        "from tensorflow.keras.models import Sequential\n",
        "from tensorflow.keras.layers import LSTM, Dense, Dropout, BatchNormalization\n",
        "from tensorflow.keras.callbacks import EarlyStopping\n",
        "from tensorflow.keras.optimizers import Adam\n",
        "from sklearn.metrics import classification_report\n",
        "import joblib"
      ],
      "metadata": {
        "id": "zMJ4ZLWBVOqx"
      },
      "execution_count": 2,
      "outputs": []
    },
    {
      "cell_type": "markdown",
      "source": [
        "# Data Retrieval and Pre-Processing"
      ],
      "metadata": {
        "id": "VvsiqPIHV9S9"
      }
    },
    {
      "cell_type": "code",
      "source": [
        "# Obtain S&P500 stock tickers from Wikipedia\n",
        "sp500 = pd.read_html('https://en.wikipedia.org/wiki/List_of_S%26P_500_companies')[0]\n",
        "sp500['Symbol'] = sp500['Symbol'].str.replace('.', '-')\n",
        "symbols_list = sp500['Symbol'].unique().tolist()\n",
        "\n",
        "# Use yf library to download data\n",
        "end_date = '2024-08-02'\n",
        "start_date = pd.to_datetime(end_date) - pd.DateOffset(3911)\n",
        "df = yf.download(tickers = symbols_list, start = start_date, end = end_date).stack()"
      ],
      "metadata": {
        "colab": {
          "base_uri": "https://localhost:8080/"
        },
        "id": "vTRwyXxdWrOZ",
        "outputId": "ded6069e-6013-41bd-88a9-7ddd55c52c5c"
      },
      "execution_count": 3,
      "outputs": [
        {
          "output_type": "stream",
          "name": "stderr",
          "text": [
            "WARNING:urllib3.connectionpool:Connection pool is full, discarding connection: query2.finance.yahoo.com. Connection pool size: 10\n",
            "[**********************99%%**********************]  499 of 503 completedWARNING:urllib3.connectionpool:Connection pool is full, discarding connection: query2.finance.yahoo.com. Connection pool size: 10\n",
            "WARNING:urllib3.connectionpool:Connection pool is full, discarding connection: query2.finance.yahoo.com. Connection pool size: 10\n",
            "[*********************100%%**********************]  503 of 503 completed\n"
          ]
        }
      ]
    },
    {
      "cell_type": "code",
      "source": [
        "# Group by ticker and count the number of entries for each stock\n",
        "df.index.names = ['date', 'ticker']\n",
        "ticker_counts = df.groupby('ticker').size()\n",
        "\n",
        "# Display the count of entries for each stock\n",
        "print(\"Number of entries per stock:\")\n",
        "print(ticker_counts)\n",
        "\n",
        "# Check for any stocks with missing or additional entries\n",
        "inconsistent_stocks = ticker_counts[ticker_counts != ticker_counts.median()]\n",
        "print(\"\\nStocks with inconsistent number of entries:\")\n",
        "print(inconsistent_stocks)"
      ],
      "metadata": {
        "colab": {
          "base_uri": "https://localhost:8080/"
        },
        "id": "_LLyTYFd2lcs",
        "outputId": "32c10ee3-d935-40da-923b-813b96639746"
      },
      "execution_count": 4,
      "outputs": [
        {
          "output_type": "stream",
          "name": "stdout",
          "text": [
            "Number of entries per stock:\n",
            "ticker\n",
            "A       2693\n",
            "AAL     2693\n",
            "AAPL    2693\n",
            "ABBV    2693\n",
            "ABNB     915\n",
            "        ... \n",
            "XYL     2693\n",
            "YUM     2693\n",
            "ZBH     2693\n",
            "ZBRA    2693\n",
            "ZTS     2693\n",
            "Length: 503, dtype: int64\n",
            "\n",
            "Stocks with inconsistent number of entries:\n",
            "ticker\n",
            "ABNB     915\n",
            "ANET    2556\n",
            "CARR    1100\n",
            "CEG      637\n",
            "CFG     2480\n",
            "CRWD    1294\n",
            "CTLT    2518\n",
            "CTVA    1306\n",
            "CZR     2482\n",
            "DAY     1577\n",
            "DOW     1352\n",
            "ETSY    2340\n",
            "FOX     1357\n",
            "FOXA    1358\n",
            "FTV     2033\n",
            "GDDY    2351\n",
            "GEHC     408\n",
            "GEV       86\n",
            "HLT     2676\n",
            "HPE     2211\n",
            "HWM     1949\n",
            "INVH    1887\n",
            "IR      1817\n",
            "KEYS    2462\n",
            "KHC     2285\n",
            "KVUE     313\n",
            "LW      1942\n",
            "MRNA    1421\n",
            "OTIS    1100\n",
            "PAYC    2592\n",
            "PYPL    2285\n",
            "QRVO    2411\n",
            "SOLV      86\n",
            "SW        19\n",
            "SYF     2518\n",
            "UBER    1316\n",
            "VICI    1656\n",
            "VLTO     208\n",
            "VST     1968\n",
            "dtype: int64\n"
          ]
        }
      ]
    },
    {
      "cell_type": "code",
      "source": [
        "# Reformat and drop certain stocks because of missing data (464 stocks left)\n",
        "drop_index = ['ABNB', 'ANET', 'CARR', 'CEG', 'CFG', 'CRWD', 'CTLT', 'CTVA', 'CZR', 'DAY', 'DOW', 'ETSY', 'FOX',\n",
        "              'FOXA', 'FTV', 'GDDY', 'GEHC', 'GEV', 'HLT', 'HPE', 'HWM', 'INVH', 'IR', 'KEYS', 'KHC', 'KVUE', 'LW', 'MRNA',\n",
        "              'OTIS', 'PAYC', 'PYPL', 'QRVO', 'SOLV', 'SW', 'SYF', 'UBER', 'VICI', 'VLTO', 'VST']\n",
        "df.columns = df.columns.str.lower()\n",
        "for i in range(len(drop_index)):\n",
        "  df = df.drop(index=drop_index[i], level='ticker')"
      ],
      "metadata": {
        "id": "7nn5imRI26Et"
      },
      "execution_count": 5,
      "outputs": []
    },
    {
      "cell_type": "markdown",
      "source": [
        "# Feature Engineering"
      ],
      "metadata": {
        "id": "XiswLzoDQx8v"
      }
    },
    {
      "cell_type": "code",
      "source": [
        "# Garman-Klass Volatility\n",
        "df['gk_vol'] = ((np.log(df['high']) - np.log(df['low'])) ** 2) / 2 - (2 * np.log(2) - 1) * ((np.log(df['adj close']) - np.log(df['open'])) ** 2)\n",
        "\n",
        "# RSI\n",
        "df['rsi'] = df.groupby(level='ticker')['adj close'].transform(lambda x: pandas_ta.rsi(close=x, length=14))\n",
        "\n",
        "# ATR\n",
        "def atr(stock_data):\n",
        "  atr = pandas_ta.atr(high=stock_data['high'], low=stock_data['low'], close=stock_data['close'], length=14)\n",
        "  return atr\n",
        "df['atr'] = df.groupby(level='ticker', group_keys=False).apply(atr)\n",
        "\n",
        "# MACD\n",
        "def macd(close):\n",
        "  macd = pandas_ta.macd(close=close, length=20).iloc[:, 0]\n",
        "  return macd\n",
        "df['macd'] = df.groupby(level='ticker', group_keys=False)['adj close'].apply(macd)\n",
        "\n",
        "# EMA-10\n",
        "df['ema10'] = df['adj close'].ewm(span=10, adjust=False).mean()\n",
        "\n",
        "# EMA-50\n",
        "df['ema50'] = df['adj close'].ewm(span=50, adjust=False).mean()"
      ],
      "metadata": {
        "id": "SL9xG1Q3Q8Xe"
      },
      "execution_count": 6,
      "outputs": []
    },
    {
      "cell_type": "code",
      "source": [
        "# Create labels for multi-class classification (1-4, where 1s have greatest downward movement and 4s have greatest upward movement for the next day)\n",
        "num_stocks = df.index.get_level_values('ticker').nunique()\n",
        "df['tmr_return'] = (df['adj close'] - df['open']) / df['open']\n",
        "df['tmr_return'] = df['tmr_return'].shift(-num_stocks)\n",
        "\n",
        "def classify_return(row, positive_threshold, negative_threshold):\n",
        "    if row['tmr_return'] > 0:\n",
        "        if row['tmr_return'] >= positive_threshold:\n",
        "            return 3  # Upper 50% of positive returns\n",
        "        else:\n",
        "            return 2  # Lower 50% of positive returns\n",
        "    else:\n",
        "        if row['tmr_return'] <= negative_threshold:\n",
        "            return 0  # Lower 50% of negative returns\n",
        "        else:\n",
        "            return 1  # Upper 50% of negative returns\n",
        "\n",
        "positive_returns = df['tmr_return'][df['tmr_return'] > 0]\n",
        "negative_returns = df['tmr_return'][df['tmr_return'] < 0]\n",
        "\n",
        "positive_threshold = positive_returns.quantile(0.5)\n",
        "negative_threshold = negative_returns.quantile(0.5)\n",
        "\n",
        "df['label'] = df.apply(classify_return, args=(positive_threshold, negative_threshold), axis=1)\n",
        "\n",
        "# Drop tmr_return column as we don't need it anymore\n",
        "df = df.drop(['tmr_return'], axis = 1)"
      ],
      "metadata": {
        "id": "hy-IlnhyTcTF"
      },
      "execution_count": 7,
      "outputs": []
    },
    {
      "cell_type": "code",
      "source": [
        "# We included 30 prior days to assist in calculations of RSI, ATR, MACD, and labels. Now we can remove them.\n",
        "def remove_first_n_dates(df, n):\n",
        "    unique_dates = df.index.get_level_values('date').unique()\n",
        "    remaining_dates = unique_dates[n:]\n",
        "    df_filtered = df.loc[df.index.get_level_values('date').isin(remaining_dates)]\n",
        "    return df_filtered\n",
        "\n",
        "df = remove_first_n_dates(df, 30)"
      ],
      "metadata": {
        "id": "44G9DsUjSFNA"
      },
      "execution_count": 8,
      "outputs": []
    },
    {
      "cell_type": "code",
      "source": [
        "# Now we need to handle missing data in RSI, ATR, MACD\n",
        "imputer = IterativeImputer(max_iter=10, random_state=0)\n",
        "df[['rsi', 'atr', 'macd']] = imputer.fit_transform(df[['rsi', 'atr', 'macd']])"
      ],
      "metadata": {
        "id": "_U4pgT8cV1go"
      },
      "execution_count": 9,
      "outputs": []
    },
    {
      "cell_type": "code",
      "source": [
        "# We need to drop the last day of the data because of the offset of the labels\n",
        "df = df.iloc[:-num_stocks]"
      ],
      "metadata": {
        "id": "4qYhI1DTl8dG"
      },
      "execution_count": 10,
      "outputs": []
    },
    {
      "cell_type": "markdown",
      "source": [
        "# Train/Test Split (Pre-PCA)"
      ],
      "metadata": {
        "id": "QVT0czC9GLEN"
      }
    },
    {
      "cell_type": "code",
      "source": [
        "# Set 30 days of observations aside for testing\n",
        "lookback_days = 30\n",
        "test_df = df.groupby(level='ticker').tail(lookback_days + 1)\n",
        "train_df = df.drop(test_df.index)"
      ],
      "metadata": {
        "id": "XwQUKY2lSuVX"
      },
      "execution_count": 11,
      "outputs": []
    },
    {
      "cell_type": "code",
      "source": [
        "# Determine class imbalances in training set (we need to deal with this later)\n",
        "train_df['label'].value_counts()"
      ],
      "metadata": {
        "colab": {
          "base_uri": "https://localhost:8080/",
          "height": 241
        },
        "id": "hBah93VXiGs4",
        "outputId": "bbcc8c52-6032-4e47-eede-08eee59721c9"
      },
      "execution_count": 12,
      "outputs": [
        {
          "output_type": "execute_result",
          "data": {
            "text/plain": [
              "label\n",
              "1    537743\n",
              "0    536558\n",
              "3     73612\n",
              "2     72871\n",
              "Name: count, dtype: int64"
            ],
            "text/html": [
              "<div>\n",
              "<style scoped>\n",
              "    .dataframe tbody tr th:only-of-type {\n",
              "        vertical-align: middle;\n",
              "    }\n",
              "\n",
              "    .dataframe tbody tr th {\n",
              "        vertical-align: top;\n",
              "    }\n",
              "\n",
              "    .dataframe thead th {\n",
              "        text-align: right;\n",
              "    }\n",
              "</style>\n",
              "<table border=\"1\" class=\"dataframe\">\n",
              "  <thead>\n",
              "    <tr style=\"text-align: right;\">\n",
              "      <th></th>\n",
              "      <th>count</th>\n",
              "    </tr>\n",
              "    <tr>\n",
              "      <th>label</th>\n",
              "      <th></th>\n",
              "    </tr>\n",
              "  </thead>\n",
              "  <tbody>\n",
              "    <tr>\n",
              "      <th>1</th>\n",
              "      <td>537743</td>\n",
              "    </tr>\n",
              "    <tr>\n",
              "      <th>0</th>\n",
              "      <td>536558</td>\n",
              "    </tr>\n",
              "    <tr>\n",
              "      <th>3</th>\n",
              "      <td>73612</td>\n",
              "    </tr>\n",
              "    <tr>\n",
              "      <th>2</th>\n",
              "      <td>72871</td>\n",
              "    </tr>\n",
              "  </tbody>\n",
              "</table>\n",
              "</div><br><label><b>dtype:</b> int64</label>"
            ]
          },
          "metadata": {},
          "execution_count": 12
        }
      ]
    },
    {
      "cell_type": "markdown",
      "source": [
        "# Principal Component Analysis"
      ],
      "metadata": {
        "id": "SwuniPu-dXE3"
      }
    },
    {
      "cell_type": "code",
      "source": [
        "# Standardize the data (fit it to training data to avoid data leakage)\n",
        "features_to_standardize = ['adj close', 'close', 'open', 'high', 'low', 'volume', 'gk_vol', 'rsi', 'atr', 'macd', 'ema10', 'ema50']\n",
        "scaler = StandardScaler()\n",
        "train_df[features_to_standardize] = scaler.fit_transform(train_df[features_to_standardize])\n",
        "test_df[features_to_standardize] = scaler.transform(test_df[features_to_standardize])"
      ],
      "metadata": {
        "id": "yFrBimOXnTZj",
        "collapsed": true
      },
      "execution_count": null,
      "outputs": []
    },
    {
      "cell_type": "code",
      "source": [
        "pca = PCA()\n",
        "\n",
        "# PCA to find number of useful features\n",
        "pca = PCA(n_components=len(features_to_standardize))\n",
        "pca.fit(train_df[features_to_standardize])\n",
        "\n",
        "# Calculate explained variance\n",
        "explained_variance = pca.explained_variance_ratio_\n",
        "\n",
        "# Create a scree plot to see how many features to retain\n",
        "plt.figure(figsize=(10, 6))\n",
        "plt.plot(np.arange(1, len(explained_variance) + 1), explained_variance, marker='o', linestyle='--')\n",
        "plt.title('Scree Plot')\n",
        "plt.xlabel('Principal Component')\n",
        "plt.ylabel('Variance Explained')\n",
        "plt.xticks(np.arange(1, len(explained_variance) + 1))\n",
        "plt.grid()\n",
        "plt.show()"
      ],
      "metadata": {
        "colab": {
          "base_uri": "https://localhost:8080/",
          "height": 564
        },
        "collapsed": true,
        "id": "OBWDugp3eAne",
        "outputId": "65ee45b8-9fcc-4f28-ce0e-b62dbd1088da"
      },
      "execution_count": 14,
      "outputs": [
        {
          "output_type": "display_data",
          "data": {
            "text/plain": [
              "<Figure size 1000x600 with 1 Axes>"
            ],
            "image/png": "[encoded data removed]"
          },
          "metadata": {}
        }
      ]
    },
    {
      "cell_type": "code",
      "source": [
        "# Perform Actual PCA (retain 7 features based on the scree plot)\n",
        "pca = PCA(n_components=7)\n",
        "pca.fit(train_df[features_to_standardize])\n",
        "\n",
        "# Transform all data, but only using PCA fitted to training data\n",
        "train_labels = train_df['label']\n",
        "test_labels = test_df['label']\n",
        "train_df = pd.DataFrame(pca.transform(train_df[features_to_standardize]), index=train_df.index, columns=[f'PC{i+1}' for i in range(7)])\n",
        "test_df = pd.DataFrame(pca.transform(test_df[features_to_standardize]), index=test_df.index, columns=[f'PC{i+1}' for i in range(7)])\n",
        "\n",
        "# Keep labels\n",
        "train_df['label'] = train_labels\n",
        "test_df['label'] = test_labels"
      ],
      "metadata": {
        "collapsed": true,
        "id": "ADlqeUZkk1gd"
      },
      "execution_count": 15,
      "outputs": []
    },
    {
      "cell_type": "markdown",
      "source": [
        "# Data Transformation for LSTM Input"
      ],
      "metadata": {
        "id": "aLEV7xOdlTFu"
      }
    },
    {
      "cell_type": "code",
      "source": [
        "# Train/Validation Split\n",
        "train_size = 0.8\n",
        "unique_dates = train_df.index.get_level_values('date').unique()\n",
        "split_index = int(len(unique_dates) * train_size)\n",
        "\n",
        "train_dates = unique_dates[:split_index]\n",
        "validation_dates = unique_dates[split_index:]\n",
        "\n",
        "# Split the DataFrame\n",
        "validation_df = train_df.loc[train_df.index.get_level_values('date').isin(validation_dates)]\n",
        "train_df = train_df.loc[train_df.index.get_level_values('date').isin(train_dates)]\n",
        "\n",
        "# Group each DataFrame by tickers\n",
        "train_df = train_df.groupby('ticker').apply(lambda x: x.reset_index(drop=True))\n",
        "validation_df = validation_df.groupby('ticker').apply(lambda x: x.reset_index(drop=True))\n",
        "test_df = test_df.groupby('ticker').apply(lambda x: x.reset_index(drop=True))"
      ],
      "metadata": {
        "id": "W5wEHb-7GcI8"
      },
      "execution_count": 16,
      "outputs": []
    },
    {
      "cell_type": "code",
      "source": [
        "# Split into X and y\n",
        "X_train = train_df.drop('label', axis=1)\n",
        "X_val = validation_df.drop('label', axis=1)\n",
        "X_test = test_df.drop('label', axis=1)\n",
        "y_train = train_df['label']\n",
        "y_val = validation_df['label']\n",
        "y_test = test_df['label']"
      ],
      "metadata": {
        "id": "PxpgLyC1Bpwi"
      },
      "execution_count": 17,
      "outputs": []
    },
    {
      "cell_type": "code",
      "source": [
        "# Binary-encode all tickers to fit dimensionality of LSTM input\n",
        "X_train = X_train.reset_index()\n",
        "X_val = X_val.reset_index()\n",
        "X_test = X_test.reset_index()\n",
        "binary_encoder = ce.BinaryEncoder(cols=['ticker'])\n",
        "X_train = binary_encoder.fit_transform(X_train)\n",
        "X_val = binary_encoder.transform(X_val)\n",
        "X_test = binary_encoder.transform(X_test)\n",
        "\n",
        "# Drop level_1 column\n",
        "X_train = X_train.drop('level_1', axis=1)\n",
        "X_val = X_val.drop('level_1', axis=1)\n",
        "X_test = X_test.drop('level_1', axis=1)"
      ],
      "metadata": {
        "id": "mbsr8ZuDnVjO"
      },
      "execution_count": 18,
      "outputs": []
    },
    {
      "cell_type": "code",
      "source": [
        "# Convert DataFrame into 3D array for LSTM Input [num_samples, lookback_period, num_features]\n",
        "# batch_size = 2074 (observation days in training - lookback period (30))\n",
        "lookback_period = 30\n",
        "\n",
        "def create_lstm_sequences_for_each_stock(X, y, lookback_period, num_stocks):\n",
        "    X_sequences, y_sequences = [], []\n",
        "\n",
        "    # Calculate the number of observations per stock\n",
        "    num_observations_per_stock = len(X) // num_stocks\n",
        "\n",
        "    # Iterate over each stock\n",
        "    for i in range(num_stocks):\n",
        "        # Calculate start and end indices for the current stock\n",
        "        start_idx = i * num_observations_per_stock\n",
        "        end_idx = (i + 1) * num_observations_per_stock\n",
        "\n",
        "        # Extract data for the current stock\n",
        "        X_stock = X[start_idx:end_idx]\n",
        "        y_stock = y[start_idx:end_idx]\n",
        "\n",
        "        # Generate sequences for the current stock\n",
        "        sequence_length = len(X_stock) - lookback_period\n",
        "\n",
        "        for j in range(sequence_length):\n",
        "            # Extract the sequence of features\n",
        "            sequence = X_stock[j:j + lookback_period]\n",
        "            # Get the target value (e.g., next day's closing price)\n",
        "            target = y_stock[j + lookback_period]\n",
        "\n",
        "            X_sequences.append(sequence)\n",
        "            y_sequences.append(target)\n",
        "\n",
        "    return np.array(X_sequences), np.array(y_sequences)\n",
        "\n",
        "# Create sequences for LSTM input\n",
        "X_train, y_train = create_lstm_sequences_for_each_stock(X_train, y_train, lookback_period, num_stocks)\n",
        "X_val, y_val = create_lstm_sequences_for_each_stock(X_val, y_val, lookback_period, num_stocks)\n",
        "X_test, y_test = create_lstm_sequences_for_each_stock(X_test, y_test, lookback_period, num_stocks)"
      ],
      "metadata": {
        "id": "bsSWirFi_VAz"
      },
      "execution_count": 19,
      "outputs": []
    },
    {
      "cell_type": "markdown",
      "source": [
        "# Implementing RNN (LSTM)"
      ],
      "metadata": {
        "id": "hPm2dwTatVZ0"
      }
    },
    {
      "cell_type": "code",
      "source": [
        "# Build Model\n",
        "model = Sequential()\n",
        "model.add(LSTM(units=150, return_sequences=True, input_shape=(X_train.shape[1], X_train.shape[2])))\n",
        "model.add(BatchNormalization())\n",
        "model.add(Dropout(0.2))\n",
        "model.add(LSTM(units=150))\n",
        "model.add(BatchNormalization())\n",
        "model.add(Dropout(0.2))\n",
        "model.add(Dense(units=4, activation='softmax'))\n",
        "\n",
        "# Compile Model\n",
        "optimizer = Adam()\n",
        "model.compile(optimizer = optimizer, loss = 'sparse_categorical_crossentropy', metrics = ['accuracy'])"
      ],
      "metadata": {
        "id": "UFHiw4jqtjRA",
        "colab": {
          "base_uri": "https://localhost:8080/"
        },
        "outputId": "9db3ca07-72a3-4a36-e7f7-768cf200681b"
      },
      "execution_count": 26,
      "outputs": [
        {
          "output_type": "stream",
          "name": "stderr",
          "text": [
            "/usr/local/lib/python3.10/dist-packages/keras/src/layers/rnn/rnn.py:204: UserWarning: Do not pass an `input_shape`/`input_dim` argument to a layer. When using Sequential models, prefer using an `Input(shape)` object as the first layer in the model instead.\n",
            "  super().__init__(**kwargs)\n"
          ]
        }
      ]
    },
    {
      "cell_type": "code",
      "source": [
        "# Rebalance classes using weights (manually calculate using the value counts from before)\n",
        "class_weights = {\n",
        "    0: 0.568,\n",
        "    1: 0.567,\n",
        "    2: 4.19,\n",
        "    3: 4.14\n",
        "}"
      ],
      "metadata": {
        "id": "1__LrHW1klmU"
      },
      "execution_count": 27,
      "outputs": []
    },
    {
      "cell_type": "code",
      "source": [
        "# Early Stopping\n",
        "early_stopping = EarlyStopping(monitor='val_loss', patience=5, restore_best_weights=True)\n",
        "\n",
        "# Train stateless model on each stock by using a batch size equal to number of obs. per stock, do not shuffle\n",
        "model.fit(X_train, y_train, epochs=30, batch_size=2074, shuffle = False, validation_data=(X_val, y_val), callbacks=[early_stopping], class_weight = class_weights)"
      ],
      "metadata": {
        "colab": {
          "base_uri": "https://localhost:8080/"
        },
        "id": "iSPb0VKe0Up_",
        "outputId": "ccac0b76-0071-4d70-db70-34564df5551f"
      },
      "execution_count": 28,
      "outputs": [
        {
          "output_type": "stream",
          "name": "stdout",
          "text": [
            "Epoch 1/30\n",
            "\u001b[1m464/464\u001b[0m \u001b[32m━━━━━━━━━━━━━━━━━━━━\u001b[0m\u001b[37m\u001b[0m \u001b[1m19s\u001b[0m 37ms/step - accuracy: 0.3617 - loss: 1.5268 - val_accuracy: 0.4490 - val_loss: 1.2171\n",
            "Epoch 2/30\n",
            "\u001b[1m464/464\u001b[0m \u001b[32m━━━━━━━━━━━━━━━━━━━━\u001b[0m\u001b[37m\u001b[0m \u001b[1m17s\u001b[0m 35ms/step - accuracy: 0.4619 - loss: 1.3300 - val_accuracy: 0.3328 - val_loss: 1.3316\n",
            "Epoch 3/30\n",
            "\u001b[1m464/464\u001b[0m \u001b[32m━━━━━━━━━━━━━━━━━━━━\u001b[0m\u001b[37m\u001b[0m \u001b[1m17s\u001b[0m 36ms/step - accuracy: 0.5353 - loss: 1.2884 - val_accuracy: 0.6716 - val_loss: 1.0348\n",
            "Epoch 4/30\n",
            "\u001b[1m464/464\u001b[0m \u001b[32m━━━━━━━━━━━━━━━━━━━━\u001b[0m\u001b[37m\u001b[0m \u001b[1m16s\u001b[0m 35ms/step - accuracy: 0.5696 - loss: 1.2675 - val_accuracy: 0.6559 - val_loss: 1.0586\n",
            "Epoch 5/30\n",
            "\u001b[1m464/464\u001b[0m \u001b[32m━━━━━━━━━━━━━━━━━━━━\u001b[0m\u001b[37m\u001b[0m \u001b[1m16s\u001b[0m 35ms/step - accuracy: 0.5752 - loss: 1.2601 - val_accuracy: 0.6458 - val_loss: 1.0428\n",
            "Epoch 6/30\n",
            "\u001b[1m464/464\u001b[0m \u001b[32m━━━━━━━━━━━━━━━━━━━━\u001b[0m\u001b[37m\u001b[0m \u001b[1m16s\u001b[0m 35ms/step - accuracy: 0.5951 - loss: 1.2410 - val_accuracy: 0.6723 - val_loss: 1.0387\n",
            "Epoch 7/30\n",
            "\u001b[1m464/464\u001b[0m \u001b[32m━━━━━━━━━━━━━━━━━━━━\u001b[0m\u001b[37m\u001b[0m \u001b[1m16s\u001b[0m 35ms/step - accuracy: 0.6153 - loss: 1.2183 - val_accuracy: 0.7300 - val_loss: 0.9957\n",
            "Epoch 8/30\n",
            "\u001b[1m464/464\u001b[0m \u001b[32m━━━━━━━━━━━━━━━━━━━━\u001b[0m\u001b[37m\u001b[0m \u001b[1m16s\u001b[0m 35ms/step - accuracy: 0.6182 - loss: 1.2096 - val_accuracy: 0.7161 - val_loss: 0.9822\n",
            "Epoch 9/30\n",
            "\u001b[1m464/464\u001b[0m \u001b[32m━━━━━━━━━━━━━━━━━━━━\u001b[0m\u001b[37m\u001b[0m \u001b[1m16s\u001b[0m 35ms/step - accuracy: 0.6299 - loss: 1.1804 - val_accuracy: 0.6680 - val_loss: 1.0522\n",
            "Epoch 10/30\n",
            "\u001b[1m464/464\u001b[0m \u001b[32m━━━━━━━━━━━━━━━━━━━━\u001b[0m\u001b[37m\u001b[0m \u001b[1m16s\u001b[0m 35ms/step - accuracy: 0.6215 - loss: 1.1629 - val_accuracy: 0.6965 - val_loss: 1.1398\n",
            "Epoch 11/30\n",
            "\u001b[1m464/464\u001b[0m \u001b[32m━━━━━━━━━━━━━━━━━━━━\u001b[0m\u001b[37m\u001b[0m \u001b[1m16s\u001b[0m 35ms/step - accuracy: 0.6291 - loss: 1.1342 - val_accuracy: 0.7075 - val_loss: 0.9736\n",
            "Epoch 12/30\n",
            "\u001b[1m464/464\u001b[0m \u001b[32m━━━━━━━━━━━━━━━━━━━━\u001b[0m\u001b[37m\u001b[0m \u001b[1m16s\u001b[0m 35ms/step - accuracy: 0.6169 - loss: 1.1259 - val_accuracy: 0.6734 - val_loss: 1.0462\n",
            "Epoch 13/30\n",
            "\u001b[1m464/464\u001b[0m \u001b[32m━━━━━━━━━━━━━━━━━━━━\u001b[0m\u001b[37m\u001b[0m \u001b[1m16s\u001b[0m 35ms/step - accuracy: 0.6155 - loss: 1.1034 - val_accuracy: 0.6519 - val_loss: 1.1092\n",
            "Epoch 14/30\n",
            "\u001b[1m464/464\u001b[0m \u001b[32m━━━━━━━━━━━━━━━━━━━━\u001b[0m\u001b[37m\u001b[0m \u001b[1m16s\u001b[0m 35ms/step - accuracy: 0.6111 - loss: 1.1014 - val_accuracy: 0.6528 - val_loss: 1.0889\n",
            "Epoch 15/30\n",
            "\u001b[1m464/464\u001b[0m \u001b[32m━━━━━━━━━━━━━━━━━━━━\u001b[0m\u001b[37m\u001b[0m \u001b[1m16s\u001b[0m 35ms/step - accuracy: 0.6058 - loss: 1.0884 - val_accuracy: 0.5075 - val_loss: 1.3110\n",
            "Epoch 16/30\n",
            "\u001b[1m464/464\u001b[0m \u001b[32m━━━━━━━━━━━━━━━━━━━━\u001b[0m\u001b[37m\u001b[0m \u001b[1m16s\u001b[0m 35ms/step - accuracy: 0.6189 - loss: 1.0698 - val_accuracy: 0.5895 - val_loss: 1.2804\n"
          ]
        },
        {
          "output_type": "execute_result",
          "data": {
            "text/plain": [
              "<keras.src.callbacks.history.History at 0x7fe59f2ff7f0>"
            ]
          },
          "metadata": {},
          "execution_count": 28
        }
      ]
    },
    {
      "cell_type": "code",
      "source": [
        "# Model Evaluation (one day of testing not enough to generalize, but just to see sample performance)\n",
        "predictions = model.predict(X_test)\n",
        "y_pred = np.argmax(predictions, axis=1)\n",
        "results = model.evaluate(X_test, y_test)\n",
        "print(results)\n",
        "print(classification_report(y_test, y_pred))"
      ],
      "metadata": {
        "id": "LPDHII3Aj8ob",
        "colab": {
          "base_uri": "https://localhost:8080/"
        },
        "outputId": "646232ea-3612-4021-ad6a-0ee54cb2e34b"
      },
      "execution_count": 29,
      "outputs": [
        {
          "output_type": "stream",
          "name": "stdout",
          "text": [
            "\u001b[1m15/15\u001b[0m \u001b[32m━━━━━━━━━━━━━━━━━━━━\u001b[0m\u001b[37m\u001b[0m \u001b[1m0s\u001b[0m 17ms/step\n",
            "\u001b[1m15/15\u001b[0m \u001b[32m━━━━━━━━━━━━━━━━━━━━\u001b[0m\u001b[37m\u001b[0m \u001b[1m0s\u001b[0m 3ms/step - accuracy: 0.5668 - loss: 1.0157 \n",
            "[1.0245082378387451, 0.5754310488700867]\n",
            "              precision    recall  f1-score   support\n",
            "\n",
            "           0       0.00      0.00      0.00         2\n",
            "           1       0.65      0.85      0.74       307\n",
            "           2       0.10      0.02      0.03        63\n",
            "           3       0.11      0.07      0.08        92\n",
            "\n",
            "    accuracy                           0.58       464\n",
            "   macro avg       0.22      0.23      0.21       464\n",
            "weighted avg       0.47      0.58      0.51       464\n",
            "\n"
          ]
        }
      ]
    },
    {
      "cell_type": "code",
      "source": [
        "# Save scaler and pca for future prediction pre-processing\n",
        "joblib.dump(scaler, 'scaler.pkl')\n",
        "joblib.dump(pca, 'pca.pkl')\n",
        "\n",
        "# Save LSTM\n",
        "model.save('lstm.keras')"
      ],
      "metadata": {
        "id": "B1dKbZd0zlB3"
      },
      "execution_count": 24,
      "outputs": []
    }
  ]
}